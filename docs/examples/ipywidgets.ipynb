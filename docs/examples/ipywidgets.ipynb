{
 "cells": [
  {
   "cell_type": "code",
   "execution_count": 1,
   "id": "9b7545cd",
   "metadata": {},
   "outputs": [],
   "source": [
    "import ipywidgets as widgets"
   ]
  },
  {
   "cell_type": "code",
   "execution_count": 17,
   "id": "b8e8c0e0",
   "metadata": {},
   "outputs": [
    {
     "data": {
      "application/vnd.jupyter.widget-view+json": {
       "model_id": "1b91d4969a364d689bdf5ffe1b5cb587",
       "version_major": 2,
       "version_minor": 0
      },
      "text/plain": [
       "IntSlider(value=2000, description='Year:', max=2025, min=1984)"
      ]
     },
     "execution_count": 17,
     "metadata": {},
     "output_type": "execute_result"
    }
   ],
   "source": [
    "int_slider = widgets.IntSlider(\n",
    "    value=2000,\n",
    "    min=1984,\n",
    "    max=2025,\n",
    "    step=1,\n",
    "    description=\"Year:\",\n",
    ")\n",
    "\n",
    "int_slider"
   ]
  },
  {
   "cell_type": "code",
   "execution_count": 18,
   "id": "91342aa9",
   "metadata": {},
   "outputs": [
    {
     "data": {
      "text/plain": [
       "2000"
      ]
     },
     "execution_count": 18,
     "metadata": {},
     "output_type": "execute_result"
    }
   ],
   "source": [
    "int_slider.value"
   ]
  },
  {
   "cell_type": "code",
   "execution_count": 15,
   "id": "b67168af",
   "metadata": {},
   "outputs": [],
   "source": [
    "int_slider.value = 2019"
   ]
  },
  {
   "cell_type": "markdown",
   "id": "66aaef60",
   "metadata": {},
   "source": [
    "### FloatSlider"
   ]
  },
  {
   "cell_type": "code",
   "execution_count": 20,
   "id": "61d07ec0",
   "metadata": {},
   "outputs": [
    {
     "data": {
      "application/vnd.jupyter.widget-view+json": {
       "model_id": "72f31fca61074245978b51688b27cab0",
       "version_major": 2,
       "version_minor": 0
      },
      "text/plain": [
       "FloatSlider(value=0.0, max=1.0, min=-1.0, step=0.05)"
      ]
     },
     "execution_count": 20,
     "metadata": {},
     "output_type": "execute_result"
    }
   ],
   "source": [
    "float_slider = widgets.FloatSlider(\n",
    "    value=0,\n",
    "    min=-1,\n",
    "    max=1,\n",
    "    step=0.05,\n",
    ")\n",
    "\n",
    "float_slider"
   ]
  },
  {
   "cell_type": "code",
   "execution_count": 21,
   "id": "655577bb",
   "metadata": {},
   "outputs": [
    {
     "data": {
      "text/plain": [
       "0.1499999999999999"
      ]
     },
     "execution_count": 21,
     "metadata": {},
     "output_type": "execute_result"
    }
   ],
   "source": [
    "float_slider.value"
   ]
  },
  {
   "cell_type": "markdown",
   "id": "65d0de93",
   "metadata": {},
   "source": [
    "### IntProgress"
   ]
  },
  {
   "cell_type": "code",
   "execution_count": null,
   "id": "7cf2b226",
   "metadata": {},
   "outputs": [
    {
     "data": {
      "application/vnd.jupyter.widget-view+json": {
       "model_id": "8360deb6c77e4a8ca0e9a43bd6da32dd",
       "version_major": 2,
       "version_minor": 0
      },
      "text/plain": [
       "IntProgress(value=50, bar_style='info', description='Loading:')"
      ]
     },
     "execution_count": 26,
     "metadata": {},
     "output_type": "execute_result"
    }
   ],
   "source": [
    "int_progress = widgets.IntProgress(\n",
    "    value=50,\n",
    "    min=0,\n",
    "    max=100,\n",
    "    step=1,\n",
    "    description=\"Loading:\",\n",
    "    bar_style=\"info\",  # warning, danger, success, info,\n",
    "    orientation=\"horizontal\",\n",
    ")\n",
    "\n",
    "int_progress"
   ]
  },
  {
   "cell_type": "code",
   "execution_count": 31,
   "id": "6ca3d24d",
   "metadata": {},
   "outputs": [],
   "source": [
    "int_progress.value = 10\n",
    "\n",
    "int_progress.bar_style = \"warning\""
   ]
  },
  {
   "cell_type": "code",
   "execution_count": 32,
   "id": "7d5f68ec",
   "metadata": {},
   "outputs": [
    {
     "data": {
      "application/vnd.jupyter.widget-view+json": {
       "model_id": "2b308e7cafee401bb147c1b529d65085",
       "version_major": 2,
       "version_minor": 0
      },
      "text/plain": [
       "IntText(value=0, description='Int:')"
      ]
     },
     "execution_count": 32,
     "metadata": {},
     "output_type": "execute_result"
    }
   ],
   "source": [
    "int_text = widgets.IntText(\n",
    "    value=0,\n",
    "    description=\"Int:\",\n",
    "    disabled=False,\n",
    ")\n",
    "\n",
    "int_text"
   ]
  },
  {
   "cell_type": "code",
   "execution_count": 36,
   "id": "6b065339",
   "metadata": {},
   "outputs": [],
   "source": [
    "int_text.value = 15.99"
   ]
  },
  {
   "cell_type": "code",
   "execution_count": 37,
   "id": "b05b891f",
   "metadata": {},
   "outputs": [
    {
     "data": {
      "application/vnd.jupyter.widget-view+json": {
       "model_id": "ea443d6329d74a4084a29a426c8434fd",
       "version_major": 2,
       "version_minor": 0
      },
      "text/plain": [
       "FloatText(value=0.0, description='Float:')"
      ]
     },
     "execution_count": 37,
     "metadata": {},
     "output_type": "execute_result"
    }
   ],
   "source": [
    "float_text = widgets.FloatText(\n",
    "    value=0.0,\n",
    "    description=\"Float:\",\n",
    "    disabled=False,\n",
    ")\n",
    "\n",
    "float_text"
   ]
  },
  {
   "cell_type": "code",
   "execution_count": 38,
   "id": "f47f6358",
   "metadata": {},
   "outputs": [],
   "source": [
    "float_text.value = 15.89"
   ]
  },
  {
   "cell_type": "code",
   "execution_count": 46,
   "id": "3ec9342b",
   "metadata": {},
   "outputs": [
    {
     "data": {
      "application/vnd.jupyter.widget-view+json": {
       "model_id": "1454dfe6187c4c40b95ed88016d06583",
       "version_major": 2,
       "version_minor": 0
      },
      "text/plain": [
       "ToggleButton(value=False, button_style='info', description='Click me', icon='play', tooltip='Click me')"
      ]
     },
     "execution_count": 46,
     "metadata": {},
     "output_type": "execute_result"
    }
   ],
   "source": [
    "toggle_button = widgets.ToggleButton(\n",
    "    value=False,\n",
    "    description=\"Click me\",\n",
    "    button_style=\"info\",  # success, info, warning, danger or ''\n",
    "    tooltip=\"Click me\",\n",
    "    icon=\"play\",  # save, play, map, home, globe, map\n",
    ")\n",
    "\n",
    "toggle_button"
   ]
  },
  {
   "cell_type": "code",
   "execution_count": null,
   "id": "54c6258d",
   "metadata": {},
   "outputs": [],
   "source": []
  }
 ],
 "metadata": {
  "kernelspec": {
   "display_name": "geo",
   "language": "python",
   "name": "python3"
  },
  "language_info": {
   "codemirror_mode": {
    "name": "ipython",
    "version": 3
   },
   "file_extension": ".py",
   "mimetype": "text/x-python",
   "name": "python",
   "nbconvert_exporter": "python",
   "pygments_lexer": "ipython3",
   "version": "3.12.9"
  }
 },
 "nbformat": 4,
 "nbformat_minor": 5
}
